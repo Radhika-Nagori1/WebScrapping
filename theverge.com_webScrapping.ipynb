{
  "nbformat": 4,
  "nbformat_minor": 0,
  "metadata": {
    "colab": {
      "provenance": []
    },
    "kernelspec": {
      "name": "python3",
      "display_name": "Python 3"
    },
    "language_info": {
      "name": "python"
    }
  },
  "cells": [
    {
      "cell_type": "code",
      "execution_count": 68,
      "metadata": {
        "id": "ZkhLHA7KbKBk"
      },
      "outputs": [],
      "source": [
        "import requests\n",
        "import re\n",
        "from bs4 import BeautifulSoup\n",
        "import urllib.request,sys,time\n",
        "import pandas as pd\n",
        "headers={\n",
        "    \"User-Agent\": \"Mozilla/5.0 (Windows NT 10.0;Win64;x64) (X11; Linux x86_64) AppleWebKit/537.36 (KHTML, like Gecko) Chrome/51.0.2704.103 Safari/537.36\"\n",
        "}"
      ]
    },
    {
      "cell_type": "code",
      "source": [
        "url=\"https://www.theverge.com\""
      ],
      "metadata": {
        "id": "JUXTXbvDbxIW"
      },
      "execution_count": 69,
      "outputs": []
    },
    {
      "cell_type": "code",
      "source": [
        "page=requests.get(url,headers=headers)"
      ],
      "metadata": {
        "id": "8GA9-tv7b4uC"
      },
      "execution_count": 70,
      "outputs": []
    },
    {
      "cell_type": "code",
      "source": [
        "page.status_code"
      ],
      "metadata": {
        "colab": {
          "base_uri": "https://localhost:8080/"
        },
        "id": "rHT1x0Y8b9R5",
        "outputId": "7cc40dfc-601b-4c45-a0cf-ac9479f37fdb"
      },
      "execution_count": 71,
      "outputs": [
        {
          "output_type": "execute_result",
          "data": {
            "text/plain": [
              "200"
            ]
          },
          "metadata": {},
          "execution_count": 71
        }
      ]
    },
    {
      "cell_type": "code",
      "source": [
        "soup = BeautifulSoup(r.text, 'html.parser')"
      ],
      "metadata": {
        "id": "ilqa3Uk3vOIB"
      },
      "execution_count": 72,
      "outputs": []
    },
    {
      "cell_type": "code",
      "source": [
        "links=soup.find_all('div',attrs={'class':'max-w-content-block-standard'})"
      ],
      "metadata": {
        "id": "GNQuAH3RvTqP"
      },
      "execution_count": 73,
      "outputs": []
    },
    {
      "cell_type": "code",
      "source": [
        "links"
      ],
      "metadata": {
        "colab": {
          "base_uri": "https://localhost:8080/"
        },
        "id": "ysGq9C3bdaH5",
        "outputId": "04a17e8b-985e-4356-8e33-6110d6f188fb"
      },
      "execution_count": 74,
      "outputs": [
        {
          "output_type": "execute_result",
          "data": {
            "text/plain": [
              "[<div class=\"max-w-content-block-standard md:w-content-block-compact md:max-w-content-block-compact lg:w-[240px] lg:max-w-[240px] lg:pr-10\"><h2 class=\"font-polysans text-20 font-bold leading-100 tracking-1 md:text-24 lg:text-20\"><a class=\"group-hover:shadow-underline-franklin\" href=\"/23658631/kitchen-cooking-coffee-gadgets-favorite-tech\">The Verge’s 13 favorite kitchen tools</a></h2><div class=\"relative z-10 inline-block pt-4 font-polysans text-11 uppercase leading-140 tracking-15 text-gray-31 dark:text-gray-bd\"><div class=\"inline-block\"><a class=\"text-gray-31 hover:shadow-underline-inherit dark:text-franklin mr-8\" href=\"/authors/barbara-krasnoff\">Barbara Krasnoff</a></div><div class=\"inline-block\"><span class=\"text-gray-63 dark:text-gray-94\">36 minutes ago</span></div></div></div>,\n",
              " <div class=\"max-w-content-block-standard md:w-content-block-compact md:max-w-content-block-compact lg:w-[240px] lg:max-w-[240px] lg:pr-10\"><h2 class=\"font-polysans text-20 font-bold leading-100 tracking-1 md:text-24 lg:text-20\"><a class=\"group-hover:shadow-underline-franklin\" href=\"/23660400/oura-ring-covid-19-illness-detection-biometrics-heart-rate-sleep\">Oura study shows covid-19 can impact your biometrics for weeks after infection</a></h2><div class=\"relative z-10 inline-block pt-4 font-polysans text-11 uppercase leading-140 tracking-15 text-gray-31 dark:text-gray-bd\"><div class=\"inline-block\"><a class=\"text-gray-31 hover:shadow-underline-inherit dark:text-franklin mr-8\" href=\"/authors/victoria-song\">Victoria Song</a></div><div class=\"inline-block\"><span class=\"text-gray-63 dark:text-gray-94\">An hour ago</span></div></div></div>,\n",
              " <div class=\"max-w-content-block-standard md:w-content-block-compact md:max-w-content-block-compact lg:w-[240px] lg:max-w-[240px] lg:pr-10\"><h2 class=\"font-polysans text-20 font-bold leading-100 tracking-1 md:text-24 lg:text-20\"><a class=\"group-hover:shadow-underline-franklin\" href=\"/2023/3/29/23661374/elon-musk-ai-researchers-pause-research-open-letter\">Elon Musk and top AI researchers call for pause on ‘giant AI experiments’</a></h2><div class=\"relative z-10 inline-block pt-4 font-polysans text-11 uppercase leading-140 tracking-15 text-gray-31 dark:text-gray-bd\"><div class=\"inline-block\"><a class=\"text-gray-31 hover:shadow-underline-inherit dark:text-franklin mr-8\" href=\"/authors/james-vincent\">James Vincent</a></div><div class=\"inline-block\"><span class=\"text-gray-63 dark:text-gray-94\">9:08 AM UTC</span></div></div></div>,\n",
              " <div class=\"max-w-content-block-standard md:w-content-block-compact md:max-w-content-block-compact lg:w-[240px] lg:max-w-[240px] lg:pr-10\"><h2 class=\"font-polysans text-20 font-bold leading-100 tracking-1 md:text-24 lg:text-20\"><a class=\"group-hover:shadow-underline-franklin\" href=\"/2023/3/28/23660059/tears-of-the-kingdom-open-world-potential-nintendo-switch\">Tears of the Kingdom is going to ruin our lives, and I’m here for it</a></h2><div class=\"relative z-10 inline-block pt-4 font-polysans text-11 uppercase leading-140 tracking-15 text-gray-31 dark:text-gray-bd\"><div class=\"inline-block\"><a class=\"text-gray-31 hover:shadow-underline-inherit dark:text-franklin mr-8\" href=\"/authors/ash-parrish\">Ash Parrish</a></div><div class=\"inline-block\"><span class=\"text-gray-63 dark:text-gray-94\">Mar 28</span></div></div></div>,\n",
              " <div class=\"max-w-content-block-standard md:w-content-block-compact md:max-w-content-block-compact lg:w-[240px] lg:max-w-[240px] lg:pr-10\"><h2 class=\"font-polysans text-20 font-bold leading-100 tracking-1 md:text-24 lg:text-20\"><a class=\"group-hover:shadow-underline-franklin\" href=\"/2023/3/28/23660473/substack-retail-investors-revenue-profit\">How much money do we think Substack lost last year?</a></h2><div class=\"relative z-10 inline-block pt-4 font-polysans text-11 uppercase leading-140 tracking-15 text-gray-31 dark:text-gray-bd\"><div class=\"inline-block\"><a class=\"text-gray-31 hover:shadow-underline-inherit dark:text-franklin mr-8\" href=\"/authors/elizabeth-lopatto\">Elizabeth Lopatto</a></div><div class=\"inline-block\"><span class=\"text-gray-63 dark:text-gray-94\">Mar 28</span></div></div></div>]"
            ]
          },
          "metadata": {},
          "execution_count": 74
        }
      ]
    },
    {
      "cell_type": "code",
      "source": [
        "data=[]\n",
        "for item in links:\n",
        "  link={\n",
        "      'url':item.find('a',class_='group-hover:shadow-underline-franklin').attrs['href'],\n",
        "      'headline':item.find('a',attrs={'class':'group-hover:shadow-underline-franklin'}).text.strip(),\n",
        "      'author':item.find('a',attrs={'class':'text-gray-31'}).text.strip(),\n",
        "      'date':item.find('span',attrs={'class':'text-gray-63'}).text.strip()\n",
        "  }\n",
        "  data.append(link)"
      ],
      "metadata": {
        "id": "PzbcFy4BjqTA"
      },
      "execution_count": 75,
      "outputs": []
    },
    {
      "cell_type": "code",
      "source": [
        "data"
      ],
      "metadata": {
        "colab": {
          "base_uri": "https://localhost:8080/"
        },
        "id": "i5X460nMvaJW",
        "outputId": "8f5c28fe-63a6-43b9-ba45-9e47e8ddeab2"
      },
      "execution_count": 76,
      "outputs": [
        {
          "output_type": "execute_result",
          "data": {
            "text/plain": [
              "[{'url': '/23658631/kitchen-cooking-coffee-gadgets-favorite-tech',\n",
              "  'headline': 'The Verge’s 13 favorite kitchen tools',\n",
              "  'author': 'Barbara Krasnoff',\n",
              "  'date': '36 minutes ago'},\n",
              " {'url': '/23660400/oura-ring-covid-19-illness-detection-biometrics-heart-rate-sleep',\n",
              "  'headline': 'Oura study shows covid-19 can impact your biometrics for weeks after infection',\n",
              "  'author': 'Victoria Song',\n",
              "  'date': 'An hour ago'},\n",
              " {'url': '/2023/3/29/23661374/elon-musk-ai-researchers-pause-research-open-letter',\n",
              "  'headline': 'Elon Musk and top AI researchers call for pause on ‘giant AI experiments’',\n",
              "  'author': 'James Vincent',\n",
              "  'date': '9:08 AM UTC'},\n",
              " {'url': '/2023/3/28/23660059/tears-of-the-kingdom-open-world-potential-nintendo-switch',\n",
              "  'headline': 'Tears of the Kingdom is going to ruin our lives, and I’m here for it',\n",
              "  'author': 'Ash Parrish',\n",
              "  'date': 'Mar 28'},\n",
              " {'url': '/2023/3/28/23660473/substack-retail-investors-revenue-profit',\n",
              "  'headline': 'How much money do we think Substack lost last year?',\n",
              "  'author': 'Elizabeth Lopatto',\n",
              "  'date': 'Mar 28'}]"
            ]
          },
          "metadata": {},
          "execution_count": 76
        }
      ]
    },
    {
      "cell_type": "code",
      "source": [
        "df=pd.DataFrame(data)"
      ],
      "metadata": {
        "id": "FpG4M9dMvasT"
      },
      "execution_count": 77,
      "outputs": []
    },
    {
      "cell_type": "code",
      "source": [
        "df"
      ],
      "metadata": {
        "colab": {
          "base_uri": "https://localhost:8080/",
          "height": 354
        },
        "id": "MP2UyG5avw6Q",
        "outputId": "eaeb3946-6dee-450f-af1d-4259402d0104"
      },
      "execution_count": 78,
      "outputs": [
        {
          "output_type": "execute_result",
          "data": {
            "text/plain": [
              "                                                 url  \\\n",
              "0  /23658631/kitchen-cooking-coffee-gadgets-favor...   \n",
              "1  /23660400/oura-ring-covid-19-illness-detection...   \n",
              "2  /2023/3/29/23661374/elon-musk-ai-researchers-p...   \n",
              "3  /2023/3/28/23660059/tears-of-the-kingdom-open-...   \n",
              "4  /2023/3/28/23660473/substack-retail-investors-...   \n",
              "\n",
              "                                            headline             author  \\\n",
              "0              The Verge’s 13 favorite kitchen tools   Barbara Krasnoff   \n",
              "1  Oura study shows covid-19 can impact your biom...      Victoria Song   \n",
              "2  Elon Musk and top AI researchers call for paus...      James Vincent   \n",
              "3  Tears of the Kingdom is going to ruin our live...        Ash Parrish   \n",
              "4  How much money do we think Substack lost last ...  Elizabeth Lopatto   \n",
              "\n",
              "             date  \n",
              "0  36 minutes ago  \n",
              "1     An hour ago  \n",
              "2     9:08 AM UTC  \n",
              "3          Mar 28  \n",
              "4          Mar 28  "
            ],
            "text/html": [
              "\n",
              "  <div id=\"df-c51648e5-2c7f-4216-ae0a-59bbd696775f\">\n",
              "    <div class=\"colab-df-container\">\n",
              "      <div>\n",
              "<style scoped>\n",
              "    .dataframe tbody tr th:only-of-type {\n",
              "        vertical-align: middle;\n",
              "    }\n",
              "\n",
              "    .dataframe tbody tr th {\n",
              "        vertical-align: top;\n",
              "    }\n",
              "\n",
              "    .dataframe thead th {\n",
              "        text-align: right;\n",
              "    }\n",
              "</style>\n",
              "<table border=\"1\" class=\"dataframe\">\n",
              "  <thead>\n",
              "    <tr style=\"text-align: right;\">\n",
              "      <th></th>\n",
              "      <th>url</th>\n",
              "      <th>headline</th>\n",
              "      <th>author</th>\n",
              "      <th>date</th>\n",
              "    </tr>\n",
              "  </thead>\n",
              "  <tbody>\n",
              "    <tr>\n",
              "      <th>0</th>\n",
              "      <td>/23658631/kitchen-cooking-coffee-gadgets-favor...</td>\n",
              "      <td>The Verge’s 13 favorite kitchen tools</td>\n",
              "      <td>Barbara Krasnoff</td>\n",
              "      <td>36 minutes ago</td>\n",
              "    </tr>\n",
              "    <tr>\n",
              "      <th>1</th>\n",
              "      <td>/23660400/oura-ring-covid-19-illness-detection...</td>\n",
              "      <td>Oura study shows covid-19 can impact your biom...</td>\n",
              "      <td>Victoria Song</td>\n",
              "      <td>An hour ago</td>\n",
              "    </tr>\n",
              "    <tr>\n",
              "      <th>2</th>\n",
              "      <td>/2023/3/29/23661374/elon-musk-ai-researchers-p...</td>\n",
              "      <td>Elon Musk and top AI researchers call for paus...</td>\n",
              "      <td>James Vincent</td>\n",
              "      <td>9:08 AM UTC</td>\n",
              "    </tr>\n",
              "    <tr>\n",
              "      <th>3</th>\n",
              "      <td>/2023/3/28/23660059/tears-of-the-kingdom-open-...</td>\n",
              "      <td>Tears of the Kingdom is going to ruin our live...</td>\n",
              "      <td>Ash Parrish</td>\n",
              "      <td>Mar 28</td>\n",
              "    </tr>\n",
              "    <tr>\n",
              "      <th>4</th>\n",
              "      <td>/2023/3/28/23660473/substack-retail-investors-...</td>\n",
              "      <td>How much money do we think Substack lost last ...</td>\n",
              "      <td>Elizabeth Lopatto</td>\n",
              "      <td>Mar 28</td>\n",
              "    </tr>\n",
              "  </tbody>\n",
              "</table>\n",
              "</div>\n",
              "      <button class=\"colab-df-convert\" onclick=\"convertToInteractive('df-c51648e5-2c7f-4216-ae0a-59bbd696775f')\"\n",
              "              title=\"Convert this dataframe to an interactive table.\"\n",
              "              style=\"display:none;\">\n",
              "        \n",
              "  <svg xmlns=\"http://www.w3.org/2000/svg\" height=\"24px\"viewBox=\"0 0 24 24\"\n",
              "       width=\"24px\">\n",
              "    <path d=\"M0 0h24v24H0V0z\" fill=\"none\"/>\n",
              "    <path d=\"M18.56 5.44l.94 2.06.94-2.06 2.06-.94-2.06-.94-.94-2.06-.94 2.06-2.06.94zm-11 1L8.5 8.5l.94-2.06 2.06-.94-2.06-.94L8.5 2.5l-.94 2.06-2.06.94zm10 10l.94 2.06.94-2.06 2.06-.94-2.06-.94-.94-2.06-.94 2.06-2.06.94z\"/><path d=\"M17.41 7.96l-1.37-1.37c-.4-.4-.92-.59-1.43-.59-.52 0-1.04.2-1.43.59L10.3 9.45l-7.72 7.72c-.78.78-.78 2.05 0 2.83L4 21.41c.39.39.9.59 1.41.59.51 0 1.02-.2 1.41-.59l7.78-7.78 2.81-2.81c.8-.78.8-2.07 0-2.86zM5.41 20L4 18.59l7.72-7.72 1.47 1.35L5.41 20z\"/>\n",
              "  </svg>\n",
              "      </button>\n",
              "      \n",
              "  <style>\n",
              "    .colab-df-container {\n",
              "      display:flex;\n",
              "      flex-wrap:wrap;\n",
              "      gap: 12px;\n",
              "    }\n",
              "\n",
              "    .colab-df-convert {\n",
              "      background-color: #E8F0FE;\n",
              "      border: none;\n",
              "      border-radius: 50%;\n",
              "      cursor: pointer;\n",
              "      display: none;\n",
              "      fill: #1967D2;\n",
              "      height: 32px;\n",
              "      padding: 0 0 0 0;\n",
              "      width: 32px;\n",
              "    }\n",
              "\n",
              "    .colab-df-convert:hover {\n",
              "      background-color: #E2EBFA;\n",
              "      box-shadow: 0px 1px 2px rgba(60, 64, 67, 0.3), 0px 1px 3px 1px rgba(60, 64, 67, 0.15);\n",
              "      fill: #174EA6;\n",
              "    }\n",
              "\n",
              "    [theme=dark] .colab-df-convert {\n",
              "      background-color: #3B4455;\n",
              "      fill: #D2E3FC;\n",
              "    }\n",
              "\n",
              "    [theme=dark] .colab-df-convert:hover {\n",
              "      background-color: #434B5C;\n",
              "      box-shadow: 0px 1px 3px 1px rgba(0, 0, 0, 0.15);\n",
              "      filter: drop-shadow(0px 1px 2px rgba(0, 0, 0, 0.3));\n",
              "      fill: #FFFFFF;\n",
              "    }\n",
              "  </style>\n",
              "\n",
              "      <script>\n",
              "        const buttonEl =\n",
              "          document.querySelector('#df-c51648e5-2c7f-4216-ae0a-59bbd696775f button.colab-df-convert');\n",
              "        buttonEl.style.display =\n",
              "          google.colab.kernel.accessAllowed ? 'block' : 'none';\n",
              "\n",
              "        async function convertToInteractive(key) {\n",
              "          const element = document.querySelector('#df-c51648e5-2c7f-4216-ae0a-59bbd696775f');\n",
              "          const dataTable =\n",
              "            await google.colab.kernel.invokeFunction('convertToInteractive',\n",
              "                                                     [key], {});\n",
              "          if (!dataTable) return;\n",
              "\n",
              "          const docLinkHtml = 'Like what you see? Visit the ' +\n",
              "            '<a target=\"_blank\" href=https://colab.research.google.com/notebooks/data_table.ipynb>data table notebook</a>'\n",
              "            + ' to learn more about interactive tables.';\n",
              "          element.innerHTML = '';\n",
              "          dataTable['output_type'] = 'display_data';\n",
              "          await google.colab.output.renderOutput(dataTable, element);\n",
              "          const docLink = document.createElement('div');\n",
              "          docLink.innerHTML = docLinkHtml;\n",
              "          element.appendChild(docLink);\n",
              "        }\n",
              "      </script>\n",
              "    </div>\n",
              "  </div>\n",
              "  "
            ]
          },
          "metadata": {},
          "execution_count": 78
        }
      ]
    },
    {
      "cell_type": "code",
      "source": [],
      "metadata": {
        "id": "uKIl7vwlvxq5"
      },
      "execution_count": null,
      "outputs": []
    }
  ]
}